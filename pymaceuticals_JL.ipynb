{
 "cells": [
  {
   "cell_type": "markdown",
   "metadata": {},
   "source": [
    "## Observations and Insights "
   ]
  },
  {
   "cell_type": "markdown",
   "metadata": {},
   "source": [
    "* 1 \n",
    "Capomulin and Ramicane have the most timepoints. We can infer from this that they are the most effective at minimising the harm of the tumours as more mice are living longer and as such both not dying due to their tumour and also generating more timepoints. \n",
    "\n",
    "\n",
    "* 2\n",
    "There is a positive correlation between the weight of a mouse and the average weight of it's tumour. This is likely due to a larger mouse having a larger tumour, proporitonal to the mouses' size. \n",
    "\n",
    "\n",
    "* 3 \n",
    "\n",
    "The distrubituon of male and female mice across each drug was almost identical. This allowed the drug regimen averages to be reliable across both sexes of mice and allow our data and testing to be as fair and accurate as possible. "
   ]
  },
  {
   "cell_type": "code",
   "execution_count": 2,
   "metadata": {},
   "outputs": [
    {
     "data": {
      "text/html": [
       "<div>\n",
       "<style scoped>\n",
       "    .dataframe tbody tr th:only-of-type {\n",
       "        vertical-align: middle;\n",
       "    }\n",
       "\n",
       "    .dataframe tbody tr th {\n",
       "        vertical-align: top;\n",
       "    }\n",
       "\n",
       "    .dataframe thead th {\n",
       "        text-align: right;\n",
       "    }\n",
       "</style>\n",
       "<table border=\"1\" class=\"dataframe\">\n",
       "  <thead>\n",
       "    <tr style=\"text-align: right;\">\n",
       "      <th></th>\n",
       "      <th>Mouse ID</th>\n",
       "      <th>Drug Regimen</th>\n",
       "      <th>Sex</th>\n",
       "      <th>Age_months</th>\n",
       "      <th>Weight (g)</th>\n",
       "      <th>Timepoint</th>\n",
       "      <th>Tumor Volume (mm3)</th>\n",
       "      <th>Metastatic Sites</th>\n",
       "    </tr>\n",
       "  </thead>\n",
       "  <tbody>\n",
       "    <tr>\n",
       "      <th>0</th>\n",
       "      <td>k403</td>\n",
       "      <td>Ramicane</td>\n",
       "      <td>Male</td>\n",
       "      <td>21</td>\n",
       "      <td>16</td>\n",
       "      <td>0</td>\n",
       "      <td>45.000000</td>\n",
       "      <td>0</td>\n",
       "    </tr>\n",
       "    <tr>\n",
       "      <th>1</th>\n",
       "      <td>k403</td>\n",
       "      <td>Ramicane</td>\n",
       "      <td>Male</td>\n",
       "      <td>21</td>\n",
       "      <td>16</td>\n",
       "      <td>5</td>\n",
       "      <td>38.825898</td>\n",
       "      <td>0</td>\n",
       "    </tr>\n",
       "    <tr>\n",
       "      <th>2</th>\n",
       "      <td>k403</td>\n",
       "      <td>Ramicane</td>\n",
       "      <td>Male</td>\n",
       "      <td>21</td>\n",
       "      <td>16</td>\n",
       "      <td>10</td>\n",
       "      <td>35.014271</td>\n",
       "      <td>1</td>\n",
       "    </tr>\n",
       "    <tr>\n",
       "      <th>3</th>\n",
       "      <td>k403</td>\n",
       "      <td>Ramicane</td>\n",
       "      <td>Male</td>\n",
       "      <td>21</td>\n",
       "      <td>16</td>\n",
       "      <td>15</td>\n",
       "      <td>34.223992</td>\n",
       "      <td>1</td>\n",
       "    </tr>\n",
       "    <tr>\n",
       "      <th>4</th>\n",
       "      <td>k403</td>\n",
       "      <td>Ramicane</td>\n",
       "      <td>Male</td>\n",
       "      <td>21</td>\n",
       "      <td>16</td>\n",
       "      <td>20</td>\n",
       "      <td>32.997729</td>\n",
       "      <td>1</td>\n",
       "    </tr>\n",
       "  </tbody>\n",
       "</table>\n",
       "</div>"
      ],
      "text/plain": [
       "  Mouse ID Drug Regimen   Sex  Age_months  Weight (g)  Timepoint  \\\n",
       "0     k403     Ramicane  Male          21          16          0   \n",
       "1     k403     Ramicane  Male          21          16          5   \n",
       "2     k403     Ramicane  Male          21          16         10   \n",
       "3     k403     Ramicane  Male          21          16         15   \n",
       "4     k403     Ramicane  Male          21          16         20   \n",
       "\n",
       "   Tumor Volume (mm3)  Metastatic Sites  \n",
       "0           45.000000                 0  \n",
       "1           38.825898                 0  \n",
       "2           35.014271                 1  \n",
       "3           34.223992                 1  \n",
       "4           32.997729                 1  "
      ]
     },
     "execution_count": 2,
     "metadata": {},
     "output_type": "execute_result"
    }
   ],
   "source": [
    "# Dependencies and Setup\n",
    "import matplotlib.pyplot as plt\n",
    "import pandas as pd\n",
    "import scipy.stats as st\n",
    "import numpy as np\n",
    "\n",
    "# Study data files\n",
    "mouse_metadata_path = \"Resources/Mouse_metadata.csv\"\n",
    "study_results_path = \"Resources/Study_results.csv\"\n",
    "\n",
    "# Read the mouse data and the study results\n",
    "mouse_metadata = pd.read_csv(mouse_metadata_path)\n",
    "study_results = pd.read_csv(study_results_path)\n",
    "\n",
    "# Combine the data into a single dataset\n",
    "joined_df = mouse_metadata.merge(study_results, on=\"Mouse ID\", how=\"outer\",)\n",
    "joined_df[\"Tumor Volume (mm3)\"] = pd.to_numeric(joined_df[\"Tumor Volume (mm3)\"])\n",
    "# Display the data table for preview\n",
    "joined_df.head()"
   ]
  },
  {
   "cell_type": "code",
   "execution_count": 3,
   "metadata": {},
   "outputs": [
    {
     "data": {
      "text/plain": [
       "249"
      ]
     },
     "execution_count": 3,
     "metadata": {},
     "output_type": "execute_result"
    }
   ],
   "source": [
    "# Checking the number of mice\n",
    "len(joined_df[\"Mouse ID\"].unique())"
   ]
  },
  {
   "cell_type": "code",
   "execution_count": 4,
   "metadata": {},
   "outputs": [
    {
     "data": {
      "text/html": [
       "<div>\n",
       "<style scoped>\n",
       "    .dataframe tbody tr th:only-of-type {\n",
       "        vertical-align: middle;\n",
       "    }\n",
       "\n",
       "    .dataframe tbody tr th {\n",
       "        vertical-align: top;\n",
       "    }\n",
       "\n",
       "    .dataframe thead th {\n",
       "        text-align: right;\n",
       "    }\n",
       "</style>\n",
       "<table border=\"1\" class=\"dataframe\">\n",
       "  <thead>\n",
       "    <tr style=\"text-align: right;\">\n",
       "      <th></th>\n",
       "      <th>Number of Duplicate Data</th>\n",
       "    </tr>\n",
       "    <tr>\n",
       "      <th>Mouse ID</th>\n",
       "      <th></th>\n",
       "    </tr>\n",
       "  </thead>\n",
       "  <tbody>\n",
       "    <tr>\n",
       "      <th>g989</th>\n",
       "      <td>5</td>\n",
       "    </tr>\n",
       "  </tbody>\n",
       "</table>\n",
       "</div>"
      ],
      "text/plain": [
       "          Number of Duplicate Data\n",
       "Mouse ID                          \n",
       "g989                             5"
      ]
     },
     "execution_count": 4,
     "metadata": {},
     "output_type": "execute_result"
    }
   ],
   "source": [
    "# Getting the duplicate mice by ID number that shows up for Mouse ID and Timepoint. \n",
    "\n",
    "joined_df[\"mouse/timepoint dupe\"] = joined_df.duplicated(subset=[\"Mouse ID\", \"Timepoint\"])\n",
    "\n",
    "dupe_mouse = joined_df[\"Mouse ID\"].loc[joined_df[\"mouse/timepoint dupe\"] == True].unique()\n",
    "dupe_freq = joined_df[\"Mouse ID\"].loc[joined_df[\"mouse/timepoint dupe\"] == True].value_counts()\n",
    "\n",
    "dupe_summary = pd.DataFrame({\n",
    "    \"Mouse ID\": dupe_mouse,\n",
    "    \"Number of Duplicate Data\": dupe_freq\n",
    "})\n",
    "\n",
    "dupe_mice_summary = dupe_summary.set_index(\"Mouse ID\")\n",
    "dupe_mice_summary"
   ]
  },
  {
   "cell_type": "code",
   "execution_count": 5,
   "metadata": {},
   "outputs": [
    {
     "data": {
      "text/html": [
       "<div>\n",
       "<style scoped>\n",
       "    .dataframe tbody tr th:only-of-type {\n",
       "        vertical-align: middle;\n",
       "    }\n",
       "\n",
       "    .dataframe tbody tr th {\n",
       "        vertical-align: top;\n",
       "    }\n",
       "\n",
       "    .dataframe thead th {\n",
       "        text-align: right;\n",
       "    }\n",
       "</style>\n",
       "<table border=\"1\" class=\"dataframe\">\n",
       "  <thead>\n",
       "    <tr style=\"text-align: right;\">\n",
       "      <th></th>\n",
       "      <th>Mouse ID</th>\n",
       "      <th>Drug Regimen</th>\n",
       "      <th>Sex</th>\n",
       "      <th>Age_months</th>\n",
       "      <th>Weight (g)</th>\n",
       "      <th>Timepoint</th>\n",
       "      <th>Tumor Volume (mm3)</th>\n",
       "      <th>Metastatic Sites</th>\n",
       "      <th>mouse/timepoint dupe</th>\n",
       "    </tr>\n",
       "  </thead>\n",
       "  <tbody>\n",
       "    <tr>\n",
       "      <th>908</th>\n",
       "      <td>g989</td>\n",
       "      <td>Propriva</td>\n",
       "      <td>Female</td>\n",
       "      <td>21</td>\n",
       "      <td>26</td>\n",
       "      <td>0</td>\n",
       "      <td>45.000000</td>\n",
       "      <td>0</td>\n",
       "      <td>False</td>\n",
       "    </tr>\n",
       "    <tr>\n",
       "      <th>909</th>\n",
       "      <td>g989</td>\n",
       "      <td>Propriva</td>\n",
       "      <td>Female</td>\n",
       "      <td>21</td>\n",
       "      <td>26</td>\n",
       "      <td>0</td>\n",
       "      <td>45.000000</td>\n",
       "      <td>0</td>\n",
       "      <td>True</td>\n",
       "    </tr>\n",
       "    <tr>\n",
       "      <th>910</th>\n",
       "      <td>g989</td>\n",
       "      <td>Propriva</td>\n",
       "      <td>Female</td>\n",
       "      <td>21</td>\n",
       "      <td>26</td>\n",
       "      <td>5</td>\n",
       "      <td>48.786801</td>\n",
       "      <td>0</td>\n",
       "      <td>False</td>\n",
       "    </tr>\n",
       "    <tr>\n",
       "      <th>911</th>\n",
       "      <td>g989</td>\n",
       "      <td>Propriva</td>\n",
       "      <td>Female</td>\n",
       "      <td>21</td>\n",
       "      <td>26</td>\n",
       "      <td>5</td>\n",
       "      <td>47.570392</td>\n",
       "      <td>0</td>\n",
       "      <td>True</td>\n",
       "    </tr>\n",
       "    <tr>\n",
       "      <th>912</th>\n",
       "      <td>g989</td>\n",
       "      <td>Propriva</td>\n",
       "      <td>Female</td>\n",
       "      <td>21</td>\n",
       "      <td>26</td>\n",
       "      <td>10</td>\n",
       "      <td>51.745156</td>\n",
       "      <td>0</td>\n",
       "      <td>False</td>\n",
       "    </tr>\n",
       "    <tr>\n",
       "      <th>913</th>\n",
       "      <td>g989</td>\n",
       "      <td>Propriva</td>\n",
       "      <td>Female</td>\n",
       "      <td>21</td>\n",
       "      <td>26</td>\n",
       "      <td>10</td>\n",
       "      <td>49.880528</td>\n",
       "      <td>0</td>\n",
       "      <td>True</td>\n",
       "    </tr>\n",
       "    <tr>\n",
       "      <th>914</th>\n",
       "      <td>g989</td>\n",
       "      <td>Propriva</td>\n",
       "      <td>Female</td>\n",
       "      <td>21</td>\n",
       "      <td>26</td>\n",
       "      <td>15</td>\n",
       "      <td>51.325852</td>\n",
       "      <td>1</td>\n",
       "      <td>False</td>\n",
       "    </tr>\n",
       "    <tr>\n",
       "      <th>915</th>\n",
       "      <td>g989</td>\n",
       "      <td>Propriva</td>\n",
       "      <td>Female</td>\n",
       "      <td>21</td>\n",
       "      <td>26</td>\n",
       "      <td>15</td>\n",
       "      <td>53.442020</td>\n",
       "      <td>0</td>\n",
       "      <td>True</td>\n",
       "    </tr>\n",
       "    <tr>\n",
       "      <th>916</th>\n",
       "      <td>g989</td>\n",
       "      <td>Propriva</td>\n",
       "      <td>Female</td>\n",
       "      <td>21</td>\n",
       "      <td>26</td>\n",
       "      <td>20</td>\n",
       "      <td>55.326122</td>\n",
       "      <td>1</td>\n",
       "      <td>False</td>\n",
       "    </tr>\n",
       "    <tr>\n",
       "      <th>917</th>\n",
       "      <td>g989</td>\n",
       "      <td>Propriva</td>\n",
       "      <td>Female</td>\n",
       "      <td>21</td>\n",
       "      <td>26</td>\n",
       "      <td>20</td>\n",
       "      <td>54.657650</td>\n",
       "      <td>1</td>\n",
       "      <td>True</td>\n",
       "    </tr>\n",
       "    <tr>\n",
       "      <th>918</th>\n",
       "      <td>g989</td>\n",
       "      <td>Propriva</td>\n",
       "      <td>Female</td>\n",
       "      <td>21</td>\n",
       "      <td>26</td>\n",
       "      <td>25</td>\n",
       "      <td>56.045564</td>\n",
       "      <td>1</td>\n",
       "      <td>False</td>\n",
       "    </tr>\n",
       "    <tr>\n",
       "      <th>919</th>\n",
       "      <td>g989</td>\n",
       "      <td>Propriva</td>\n",
       "      <td>Female</td>\n",
       "      <td>21</td>\n",
       "      <td>26</td>\n",
       "      <td>30</td>\n",
       "      <td>59.082294</td>\n",
       "      <td>1</td>\n",
       "      <td>False</td>\n",
       "    </tr>\n",
       "    <tr>\n",
       "      <th>920</th>\n",
       "      <td>g989</td>\n",
       "      <td>Propriva</td>\n",
       "      <td>Female</td>\n",
       "      <td>21</td>\n",
       "      <td>26</td>\n",
       "      <td>35</td>\n",
       "      <td>62.570880</td>\n",
       "      <td>2</td>\n",
       "      <td>False</td>\n",
       "    </tr>\n",
       "  </tbody>\n",
       "</table>\n",
       "</div>"
      ],
      "text/plain": [
       "    Mouse ID Drug Regimen     Sex  Age_months  Weight (g)  Timepoint  \\\n",
       "908     g989     Propriva  Female          21          26          0   \n",
       "909     g989     Propriva  Female          21          26          0   \n",
       "910     g989     Propriva  Female          21          26          5   \n",
       "911     g989     Propriva  Female          21          26          5   \n",
       "912     g989     Propriva  Female          21          26         10   \n",
       "913     g989     Propriva  Female          21          26         10   \n",
       "914     g989     Propriva  Female          21          26         15   \n",
       "915     g989     Propriva  Female          21          26         15   \n",
       "916     g989     Propriva  Female          21          26         20   \n",
       "917     g989     Propriva  Female          21          26         20   \n",
       "918     g989     Propriva  Female          21          26         25   \n",
       "919     g989     Propriva  Female          21          26         30   \n",
       "920     g989     Propriva  Female          21          26         35   \n",
       "\n",
       "     Tumor Volume (mm3)  Metastatic Sites  mouse/timepoint dupe  \n",
       "908           45.000000                 0                 False  \n",
       "909           45.000000                 0                  True  \n",
       "910           48.786801                 0                 False  \n",
       "911           47.570392                 0                  True  \n",
       "912           51.745156                 0                 False  \n",
       "913           49.880528                 0                  True  \n",
       "914           51.325852                 1                 False  \n",
       "915           53.442020                 0                  True  \n",
       "916           55.326122                 1                 False  \n",
       "917           54.657650                 1                  True  \n",
       "918           56.045564                 1                 False  \n",
       "919           59.082294                 1                 False  \n",
       "920           62.570880                 2                 False  "
      ]
     },
     "execution_count": 5,
     "metadata": {},
     "output_type": "execute_result"
    }
   ],
   "source": [
    "# Optional: Get all the data for the duplicate mouse ID. \n",
    "dupe_mice_data = joined_df[joined_df[\"Mouse ID\"].isin(dupe_mouse)]\n",
    "dupe_mice_data"
   ]
  },
  {
   "cell_type": "code",
   "execution_count": 6,
   "metadata": {},
   "outputs": [
    {
     "data": {
      "text/html": [
       "<div>\n",
       "<style scoped>\n",
       "    .dataframe tbody tr th:only-of-type {\n",
       "        vertical-align: middle;\n",
       "    }\n",
       "\n",
       "    .dataframe tbody tr th {\n",
       "        vertical-align: top;\n",
       "    }\n",
       "\n",
       "    .dataframe thead th {\n",
       "        text-align: right;\n",
       "    }\n",
       "</style>\n",
       "<table border=\"1\" class=\"dataframe\">\n",
       "  <thead>\n",
       "    <tr style=\"text-align: right;\">\n",
       "      <th></th>\n",
       "      <th>Mouse ID</th>\n",
       "      <th>Drug Regimen</th>\n",
       "      <th>Sex</th>\n",
       "      <th>Age_months</th>\n",
       "      <th>Weight (g)</th>\n",
       "      <th>Timepoint</th>\n",
       "      <th>Tumor Volume (mm3)</th>\n",
       "      <th>Metastatic Sites</th>\n",
       "    </tr>\n",
       "  </thead>\n",
       "  <tbody>\n",
       "    <tr>\n",
       "      <th>0</th>\n",
       "      <td>k403</td>\n",
       "      <td>Ramicane</td>\n",
       "      <td>Male</td>\n",
       "      <td>21</td>\n",
       "      <td>16</td>\n",
       "      <td>0</td>\n",
       "      <td>45.000000</td>\n",
       "      <td>0</td>\n",
       "    </tr>\n",
       "    <tr>\n",
       "      <th>1</th>\n",
       "      <td>k403</td>\n",
       "      <td>Ramicane</td>\n",
       "      <td>Male</td>\n",
       "      <td>21</td>\n",
       "      <td>16</td>\n",
       "      <td>5</td>\n",
       "      <td>38.825898</td>\n",
       "      <td>0</td>\n",
       "    </tr>\n",
       "    <tr>\n",
       "      <th>2</th>\n",
       "      <td>k403</td>\n",
       "      <td>Ramicane</td>\n",
       "      <td>Male</td>\n",
       "      <td>21</td>\n",
       "      <td>16</td>\n",
       "      <td>10</td>\n",
       "      <td>35.014271</td>\n",
       "      <td>1</td>\n",
       "    </tr>\n",
       "    <tr>\n",
       "      <th>3</th>\n",
       "      <td>k403</td>\n",
       "      <td>Ramicane</td>\n",
       "      <td>Male</td>\n",
       "      <td>21</td>\n",
       "      <td>16</td>\n",
       "      <td>15</td>\n",
       "      <td>34.223992</td>\n",
       "      <td>1</td>\n",
       "    </tr>\n",
       "    <tr>\n",
       "      <th>4</th>\n",
       "      <td>k403</td>\n",
       "      <td>Ramicane</td>\n",
       "      <td>Male</td>\n",
       "      <td>21</td>\n",
       "      <td>16</td>\n",
       "      <td>20</td>\n",
       "      <td>32.997729</td>\n",
       "      <td>1</td>\n",
       "    </tr>\n",
       "    <tr>\n",
       "      <th>...</th>\n",
       "      <td>...</td>\n",
       "      <td>...</td>\n",
       "      <td>...</td>\n",
       "      <td>...</td>\n",
       "      <td>...</td>\n",
       "      <td>...</td>\n",
       "      <td>...</td>\n",
       "      <td>...</td>\n",
       "    </tr>\n",
       "    <tr>\n",
       "      <th>1888</th>\n",
       "      <td>z969</td>\n",
       "      <td>Naftisol</td>\n",
       "      <td>Male</td>\n",
       "      <td>9</td>\n",
       "      <td>30</td>\n",
       "      <td>25</td>\n",
       "      <td>63.145652</td>\n",
       "      <td>2</td>\n",
       "    </tr>\n",
       "    <tr>\n",
       "      <th>1889</th>\n",
       "      <td>z969</td>\n",
       "      <td>Naftisol</td>\n",
       "      <td>Male</td>\n",
       "      <td>9</td>\n",
       "      <td>30</td>\n",
       "      <td>30</td>\n",
       "      <td>65.841013</td>\n",
       "      <td>3</td>\n",
       "    </tr>\n",
       "    <tr>\n",
       "      <th>1890</th>\n",
       "      <td>z969</td>\n",
       "      <td>Naftisol</td>\n",
       "      <td>Male</td>\n",
       "      <td>9</td>\n",
       "      <td>30</td>\n",
       "      <td>35</td>\n",
       "      <td>69.176246</td>\n",
       "      <td>4</td>\n",
       "    </tr>\n",
       "    <tr>\n",
       "      <th>1891</th>\n",
       "      <td>z969</td>\n",
       "      <td>Naftisol</td>\n",
       "      <td>Male</td>\n",
       "      <td>9</td>\n",
       "      <td>30</td>\n",
       "      <td>40</td>\n",
       "      <td>70.314904</td>\n",
       "      <td>4</td>\n",
       "    </tr>\n",
       "    <tr>\n",
       "      <th>1892</th>\n",
       "      <td>z969</td>\n",
       "      <td>Naftisol</td>\n",
       "      <td>Male</td>\n",
       "      <td>9</td>\n",
       "      <td>30</td>\n",
       "      <td>45</td>\n",
       "      <td>73.867845</td>\n",
       "      <td>4</td>\n",
       "    </tr>\n",
       "  </tbody>\n",
       "</table>\n",
       "<p>1880 rows × 8 columns</p>\n",
       "</div>"
      ],
      "text/plain": [
       "     Mouse ID Drug Regimen   Sex  Age_months  Weight (g)  Timepoint  \\\n",
       "0        k403     Ramicane  Male          21          16          0   \n",
       "1        k403     Ramicane  Male          21          16          5   \n",
       "2        k403     Ramicane  Male          21          16         10   \n",
       "3        k403     Ramicane  Male          21          16         15   \n",
       "4        k403     Ramicane  Male          21          16         20   \n",
       "...       ...          ...   ...         ...         ...        ...   \n",
       "1888     z969     Naftisol  Male           9          30         25   \n",
       "1889     z969     Naftisol  Male           9          30         30   \n",
       "1890     z969     Naftisol  Male           9          30         35   \n",
       "1891     z969     Naftisol  Male           9          30         40   \n",
       "1892     z969     Naftisol  Male           9          30         45   \n",
       "\n",
       "      Tumor Volume (mm3)  Metastatic Sites  \n",
       "0              45.000000                 0  \n",
       "1              38.825898                 0  \n",
       "2              35.014271                 1  \n",
       "3              34.223992                 1  \n",
       "4              32.997729                 1  \n",
       "...                  ...               ...  \n",
       "1888           63.145652                 2  \n",
       "1889           65.841013                 3  \n",
       "1890           69.176246                 4  \n",
       "1891           70.314904                 4  \n",
       "1892           73.867845                 4  \n",
       "\n",
       "[1880 rows x 8 columns]"
      ]
     },
     "execution_count": 6,
     "metadata": {},
     "output_type": "execute_result"
    }
   ],
   "source": [
    "# Create a clean DataFrame by dropping the duplicate mouse by its ID.\n",
    "mice_vs_cancer  = joined_df.drop(joined_df[joined_df[\"Mouse ID\"].isin(dupe_mouse)].index)\n",
    "mice_vs_cancer = mice_vs_cancer.drop(\"mouse/timepoint dupe\", axis = 1)\n",
    "mice_vs_cancer"
   ]
  },
  {
   "cell_type": "code",
   "execution_count": 7,
   "metadata": {},
   "outputs": [
    {
     "data": {
      "text/plain": [
       "248"
      ]
     },
     "execution_count": 7,
     "metadata": {},
     "output_type": "execute_result"
    }
   ],
   "source": [
    "# Checking the number of mice in the clean DataFrame.\n",
    "len(mice_vs_cancer[\"Mouse ID\"].unique())"
   ]
  },
  {
   "cell_type": "markdown",
   "metadata": {},
   "source": [
    "## Summary Statistics"
   ]
  },
  {
   "cell_type": "code",
   "execution_count": 8,
   "metadata": {
    "scrolled": true
   },
   "outputs": [
    {
     "data": {
      "text/html": [
       "<div>\n",
       "<style scoped>\n",
       "    .dataframe tbody tr th:only-of-type {\n",
       "        vertical-align: middle;\n",
       "    }\n",
       "\n",
       "    .dataframe tbody tr th {\n",
       "        vertical-align: top;\n",
       "    }\n",
       "\n",
       "    .dataframe thead th {\n",
       "        text-align: right;\n",
       "    }\n",
       "</style>\n",
       "<table border=\"1\" class=\"dataframe\">\n",
       "  <thead>\n",
       "    <tr style=\"text-align: right;\">\n",
       "      <th></th>\n",
       "      <th>Mean</th>\n",
       "      <th>Median</th>\n",
       "      <th>Variance</th>\n",
       "      <th>Standard Deviation</th>\n",
       "      <th>Standard Error of the Mean</th>\n",
       "    </tr>\n",
       "  </thead>\n",
       "  <tbody>\n",
       "    <tr>\n",
       "      <th>Capomulin</th>\n",
       "      <td>40.675741</td>\n",
       "      <td>41.557809</td>\n",
       "      <td>24.947764</td>\n",
       "      <td>4.994774</td>\n",
       "      <td>0.329346</td>\n",
       "    </tr>\n",
       "    <tr>\n",
       "      <th>Ceftamin</th>\n",
       "      <td>52.591172</td>\n",
       "      <td>51.776157</td>\n",
       "      <td>39.290177</td>\n",
       "      <td>6.268188</td>\n",
       "      <td>0.469821</td>\n",
       "    </tr>\n",
       "    <tr>\n",
       "      <th>Infubinol</th>\n",
       "      <td>52.884795</td>\n",
       "      <td>51.820584</td>\n",
       "      <td>43.128684</td>\n",
       "      <td>6.567243</td>\n",
       "      <td>0.492236</td>\n",
       "    </tr>\n",
       "    <tr>\n",
       "      <th>Ketapril</th>\n",
       "      <td>55.235638</td>\n",
       "      <td>53.698743</td>\n",
       "      <td>68.553577</td>\n",
       "      <td>8.279709</td>\n",
       "      <td>0.603860</td>\n",
       "    </tr>\n",
       "    <tr>\n",
       "      <th>Naftisol</th>\n",
       "      <td>54.331565</td>\n",
       "      <td>52.509285</td>\n",
       "      <td>66.173479</td>\n",
       "      <td>8.134708</td>\n",
       "      <td>0.596466</td>\n",
       "    </tr>\n",
       "    <tr>\n",
       "      <th>Placebo</th>\n",
       "      <td>54.033581</td>\n",
       "      <td>52.288934</td>\n",
       "      <td>61.168083</td>\n",
       "      <td>7.821003</td>\n",
       "      <td>0.581331</td>\n",
       "    </tr>\n",
       "    <tr>\n",
       "      <th>Propriva</th>\n",
       "      <td>52.320930</td>\n",
       "      <td>50.446266</td>\n",
       "      <td>43.852013</td>\n",
       "      <td>6.622085</td>\n",
       "      <td>0.544332</td>\n",
       "    </tr>\n",
       "    <tr>\n",
       "      <th>Ramicane</th>\n",
       "      <td>40.216745</td>\n",
       "      <td>40.673236</td>\n",
       "      <td>23.486704</td>\n",
       "      <td>4.846308</td>\n",
       "      <td>0.320955</td>\n",
       "    </tr>\n",
       "    <tr>\n",
       "      <th>Stelasyn</th>\n",
       "      <td>54.233149</td>\n",
       "      <td>52.431737</td>\n",
       "      <td>59.450562</td>\n",
       "      <td>7.710419</td>\n",
       "      <td>0.573111</td>\n",
       "    </tr>\n",
       "    <tr>\n",
       "      <th>Zoniferol</th>\n",
       "      <td>53.236507</td>\n",
       "      <td>51.818479</td>\n",
       "      <td>48.533355</td>\n",
       "      <td>6.966589</td>\n",
       "      <td>0.516398</td>\n",
       "    </tr>\n",
       "  </tbody>\n",
       "</table>\n",
       "</div>"
      ],
      "text/plain": [
       "                Mean     Median   Variance  Standard Deviation  \\\n",
       "Capomulin  40.675741  41.557809  24.947764            4.994774   \n",
       "Ceftamin   52.591172  51.776157  39.290177            6.268188   \n",
       "Infubinol  52.884795  51.820584  43.128684            6.567243   \n",
       "Ketapril   55.235638  53.698743  68.553577            8.279709   \n",
       "Naftisol   54.331565  52.509285  66.173479            8.134708   \n",
       "Placebo    54.033581  52.288934  61.168083            7.821003   \n",
       "Propriva   52.320930  50.446266  43.852013            6.622085   \n",
       "Ramicane   40.216745  40.673236  23.486704            4.846308   \n",
       "Stelasyn   54.233149  52.431737  59.450562            7.710419   \n",
       "Zoniferol  53.236507  51.818479  48.533355            6.966589   \n",
       "\n",
       "           Standard Error of the Mean  \n",
       "Capomulin                    0.329346  \n",
       "Ceftamin                     0.469821  \n",
       "Infubinol                    0.492236  \n",
       "Ketapril                     0.603860  \n",
       "Naftisol                     0.596466  \n",
       "Placebo                      0.581331  \n",
       "Propriva                     0.544332  \n",
       "Ramicane                     0.320955  \n",
       "Stelasyn                     0.573111  \n",
       "Zoniferol                    0.516398  "
      ]
     },
     "execution_count": 8,
     "metadata": {},
     "output_type": "execute_result"
    }
   ],
   "source": [
    "groupby_drug = mice_vs_cancer.groupby(\"Drug Regimen\")\n",
    "gb_regimen_mean = groupby_drug[\"Tumor Volume (mm3)\"].mean()\n",
    "gb_regimen_median = groupby_drug[\"Tumor Volume (mm3)\"].median()\n",
    "gb_regimen_variance = groupby_drug[\"Tumor Volume (mm3)\"].var()\n",
    "gb_regimen_stdev = groupby_drug[\"Tumor Volume (mm3)\"].std()\n",
    "gb_regimen_sem = groupby_drug[\"Tumor Volume (mm3)\"].sem()\n",
    "\n",
    "gb_regimen_summary = pd.DataFrame({\"Mean\": gb_regimen_mean,\n",
    "                                   \"Median\" : gb_regimen_median,\n",
    "                                   \"Variance\" : gb_regimen_variance,\n",
    "                                   \"Standard Deviation\" : gb_regimen_stdev,\n",
    "                                   \"Standard Error of the Mean\" : gb_regimen_sem\n",
    "                                  })\n",
    "\n",
    "gb_regimen_summary.index.name = None\n",
    "gb_regimen_summary"
   ]
  },
  {
   "cell_type": "markdown",
   "metadata": {},
   "source": [
    "## Bar and Pie Charts"
   ]
  },
  {
   "cell_type": "code",
   "execution_count": 9,
   "metadata": {
    "scrolled": true
   },
   "outputs": [
    {
     "data": {
      "image/png": "[encoded data removed]",
      "text/plain": [
       "<Figure size 432x288 with 1 Axes>"
      ]
     },
     "metadata": {
      "needs_background": "light"
     },
     "output_type": "display_data"
    }
   ],
   "source": [
    "# Generate a bar plot showing the total number of timepoints for all mice tested for each drug regimen using Pandas.\n",
    "mice_vs_cancer[\"Drug Regimen\"].value_counts().plot(kind=\"bar\")\n",
    "plt.xlabel(\"Drug Regimen\")\n",
    "plt.ylabel(\"Timepoints Count\")\n",
    "plt.title(\"Sum of Timepoints per Drug Regimen\")\n",
    "plt.tight_layout()"
   ]
  },
  {
   "cell_type": "code",
   "execution_count": 10,
   "metadata": {},
   "outputs": [
    {
     "data": {
      "image/png": "[encoded data removed]",
      "text/plain": [
       "<Figure size 432x288 with 1 Axes>"
      ]
     },
     "metadata": {
      "needs_background": "light"
     },
     "output_type": "display_data"
    }
   ],
   "source": [
    "# Generate a bar plot showing the total number of timepoints for all mice tested for each drug regimen using pyplot.\n",
    "drug_timepoint_values = mice_vs_cancer[\"Drug Regimen\"].value_counts()\n",
    "drug_timepoint_keys = mice_vs_cancer[\"Drug Regimen\"].value_counts().keys().tolist()\n",
    "\n",
    "plt.bar(drug_timepoint_keys, drug_timepoint_values, width=0.5)\n",
    "plt.xlabel(\"Drug Regimen\")\n",
    "plt.ylabel(\"Timepoints Count\")\n",
    "plt.title(\"Sum of Timepoints per Drug Regimen\")\n",
    "plt.xticks(rotation=90)\n",
    "plt.tight_layout()"
   ]
  },
  {
   "cell_type": "code",
   "execution_count": 11,
   "metadata": {},
   "outputs": [
    {
     "data": {
      "image/png": "[encoded data removed]",
      "text/plain": [
       "<Figure size 432x288 with 1 Axes>"
      ]
     },
     "metadata": {},
     "output_type": "display_data"
    }
   ],
   "source": [
    "# Generate a pie plot showing the distribution of female versus male mice using Pandas\n",
    "male_count = len(mice_vs_cancer[\"Mouse ID\"].loc[mice_vs_cancer[\"Sex\"] == \"Male\"].unique()) \n",
    "female_count = len(mice_vs_cancer[\"Mouse ID\"].loc[mice_vs_cancer[\"Sex\"] == \"Female\"].unique())\n",
    "\n",
    "male_female_df = pd.DataFrame({'Count': [male_count,female_count]},\n",
    "                  index=['Male', 'Female'])\n",
    "\n",
    "colors = [\"darkorange\", \"cadetblue\"]\n",
    "gender_pie = male_female_df.plot.pie(y=\"Count\", colors = colors, autopct='%1.2f%%', labels=[\"\",\"\"])\n",
    "plt.legend(loc=\"best\",bbox_to_anchor=(1,0.6),labels=male_female_df.index)\n",
    "plt.title(\"Male and Female Mice Apart of Tests\")\n",
    "plt.xlabel(\"\")\n",
    "plt.ylabel(\"\")\n",
    "plt.tight_layout()"
   ]
  },
  {
   "cell_type": "code",
   "execution_count": 12,
   "metadata": {},
   "outputs": [
    {
     "data": {
      "image/png": "[encoded data removed]",
      "text/plain": [
       "<Figure size 432x288 with 1 Axes>"
      ]
     },
     "metadata": {},
     "output_type": "display_data"
    }
   ],
   "source": [
    "# Generate a pie plot showing the distribution of female versus male mice using pyplot\n",
    "colors = [\"darkorange\", \"cadetblue\"]\n",
    "plt.pie([male_count,female_count], labels=[\"\", \"\"], colors=colors, autopct=\"%1.2f%%\")\n",
    "plt.legend(loc=\"best\",bbox_to_anchor=(1,0.6),labels=male_female_df.index)\n",
    "plt.title(\"Male and Female Mice Apart of Tests\")\n",
    "plt.xlabel(\"\")\n",
    "plt.ylabel(\"\")\n",
    "plt.tight_layout()"
   ]
  },
  {
   "cell_type": "markdown",
   "metadata": {},
   "source": [
    "## Quartiles, Outliers and Boxplots"
   ]
  },
  {
   "cell_type": "code",
   "execution_count": 13,
   "metadata": {},
   "outputs": [],
   "source": [
    "# Calculate the final tumor volume of each mouse across four of the treatment regimens:  \n",
    "# Capomulin, Ramicane, Infubinol, and Ceftamin\n",
    "# Start by getting the last (greatest) timepoint for each mouse\n",
    "mice_vs_cancer[\"endpoint\"] = mice_vs_cancer.duplicated(subset=([\"Mouse ID\"]),keep=\"last\")\n",
    "# Merge this group df with the original dataframe to get the tumor volume at the last timepoint\n",
    "mice_endpoint = mice_vs_cancer[mice_vs_cancer[\"endpoint\"] == False]"
   ]
  },
  {
   "cell_type": "code",
   "execution_count": 14,
   "metadata": {},
   "outputs": [
    {
     "name": "stdout",
     "output_type": "stream",
     "text": [
      "Capomulin had the results: \n",
      "NormaltestResult(statistic=0.6769417193133253, pvalue=0.7128595520583232)\n",
      "Lower Bound: 32.37735684 (Outliers would be below: 20.7)\n",
      "Upper Bound: 40.1592203 (Outliers would be above: 51.83)\n",
      "0 outliers found out of 25 mice tested for Capomulin.\n",
      "Ramicane had the results: \n",
      "NormaltestResult(statistic=0.7935996486079427, pvalue=0.6724686240354172)\n",
      "Lower Bound: 31.56046955 (Outliers would be below: 17.91)\n",
      "Upper Bound: 40.65900627 (Outliers would be above: 54.31)\n",
      "0 outliers found out of 25 mice tested for Ramicane.\n",
      "Infubinol had the results: \n",
      "NormaltestResult(statistic=2.3951209992443796, pvalue=0.3019298722629719)\n",
      "Lower Bound: 54.04860769 (Outliers would be below: 36.83)\n",
      "Upper Bound: 65.52574285 (Outliers would be above: 82.74)\n",
      "1 outliers found out of 25 mice tested for Infubinol.\n",
      "Ceftamin had the results: \n",
      "NormaltestResult(statistic=6.03709361334013, pvalue=0.04887218752049397)\n",
      "Lower Bound: 48.72207785 (Outliers would be below: 25.36)\n",
      "Upper Bound: 64.29983003 (Outliers would be above: 87.67)\n",
      "0 outliers found out of 25 mice tested for Ceftamin.\n"
     ]
    },
    {
     "data": {
      "text/html": [
       "<div>\n",
       "<style scoped>\n",
       "    .dataframe tbody tr th:only-of-type {\n",
       "        vertical-align: middle;\n",
       "    }\n",
       "\n",
       "    .dataframe tbody tr th {\n",
       "        vertical-align: top;\n",
       "    }\n",
       "\n",
       "    .dataframe thead th {\n",
       "        text-align: right;\n",
       "    }\n",
       "</style>\n",
       "<table border=\"1\" class=\"dataframe\">\n",
       "  <thead>\n",
       "    <tr style=\"text-align: right;\">\n",
       "      <th></th>\n",
       "      <th>Mouse ID</th>\n",
       "      <th>Drug Regimen</th>\n",
       "      <th>Sex</th>\n",
       "      <th>Age_months</th>\n",
       "      <th>Weight (g)</th>\n",
       "      <th>Timepoint</th>\n",
       "      <th>Tumor Volume (mm3)</th>\n",
       "      <th>Metastatic Sites</th>\n",
       "      <th>endpoint</th>\n",
       "    </tr>\n",
       "  </thead>\n",
       "  <tbody>\n",
       "    <tr>\n",
       "      <th>669</th>\n",
       "      <td>c326</td>\n",
       "      <td>Infubinol</td>\n",
       "      <td>Female</td>\n",
       "      <td>18</td>\n",
       "      <td>25</td>\n",
       "      <td>5</td>\n",
       "      <td>36.321346</td>\n",
       "      <td>0</td>\n",
       "      <td>False</td>\n",
       "    </tr>\n",
       "  </tbody>\n",
       "</table>\n",
       "</div>"
      ],
      "text/plain": [
       "    Mouse ID Drug Regimen     Sex  Age_months  Weight (g)  Timepoint  \\\n",
       "669     c326    Infubinol  Female          18          25          5   \n",
       "\n",
       "     Tumor Volume (mm3)  Metastatic Sites  endpoint  \n",
       "669           36.321346                 0     False  "
      ]
     },
     "execution_count": 14,
     "metadata": {},
     "output_type": "execute_result"
    }
   ],
   "source": [
    "# Put treatments into a list for for loop (and later for plot labels)\n",
    "treatments = [\"Capomulin\", \"Ramicane\", \"Infubinol\", \"Ceftamin\"]\n",
    "\n",
    "\n",
    "# Calculate the IQR and quantitatively determine if there are any potential outliers. \n",
    "quart_drug_df = mice_endpoint[(mice_endpoint[\"Drug Regimen\"] == \"Capomulin\")|\n",
    "                              (mice_endpoint[\"Drug Regimen\"] == \"Ramicane\")|\n",
    "                              (mice_endpoint[\"Drug Regimen\"] == \"Infubinol\")|\n",
    "                              (mice_endpoint[\"Drug Regimen\"] == \"Ceftamin\")]\n",
    "\n",
    "\n",
    "#calc quartiles, upper and lowers\n",
    "quartiles = quart_drug_df[\"Tumor Volume (mm3)\"].quantile([.25,.5,.75])\n",
    "lowerq = quartiles[0.25]\n",
    "upperq = quartiles[0.75]\n",
    "iqr = upperq-lowerq\n",
    "quartiles,lowerq,upperq,iqr,st.normaltest(quart_drug_df[\"Tumor Volume (mm3)\"])\n",
    "\n",
    "# Create empty list to fill with data\n",
    "tumor_vol_tank = []\n",
    "lowerq_list = []\n",
    "upperq_list = []\n",
    "iqr_list = []\n",
    "norm_test_list = []\n",
    "outlow_list = []\n",
    "outhigh_list = []\n",
    "\n",
    "\n",
    "#empty dataframe to store outliers\n",
    "outliers_table = pd.DataFrame({})\n",
    "\n",
    "for treat in treatments:\n",
    "    #find tumour vol and append to list\n",
    "    tumor_vol = quart_drug_df[quart_drug_df[\"Drug Regimen\"] == treat][\"Tumor Volume (mm3)\"]\n",
    "    tumor_vol_tank.append(tumor_vol)\n",
    "    \n",
    "    #find quartiles and append to list\n",
    "    quartiles = quart_drug_df[quart_drug_df[\"Drug Regimen\"] == treat][\"Tumor Volume (mm3)\"].quantile([.25,.5,.75])\n",
    "    lowerq = quartiles[0.25]\n",
    "    upperq = quartiles[0.75]\n",
    "    iqr = upperq-lowerq\n",
    "    outlow = (lowerq - (iqr * 1.5))\n",
    "    outhigh = (upperq + (iqr * 1.5))\n",
    "    norm_test = st.normaltest(quart_drug_df[quart_drug_df[\"Drug Regimen\"] == treat][\"Tumor Volume (mm3)\"])\n",
    "    \n",
    "    #append to lists for printout\n",
    "    lowerq_list.append(lowerq)\n",
    "    upperq_list.append(upperq)\n",
    "    iqr_list.append(iqr)\n",
    "    norm_test_list.append(norm_test)\n",
    "    outlow_list.append(outlow)\n",
    "    outhigh_list.append(outhigh)\n",
    "    \n",
    "    #filter outliers into new dataset\n",
    "    drugspec = quart_drug_df.loc[quart_drug_df[\"Drug Regimen\"] == treat]\n",
    "    outliers = drugspec.loc[(drugspec[\"Tumor Volume (mm3)\"] < outlow) |(drugspec[\"Tumor Volume (mm3)\"] > outhigh)]\n",
    "    outliers_table = outliers_table.append(outliers)\n",
    "    \n",
    "\n",
    "quart_tested_count = len(quart_drug_df[\"Drug Regimen\"])\n",
    "quart_outlier_count = len(outliers[\"Drug Regimen\"])\n",
    "\n",
    "\n",
    "#print the information out so it can be reviewed\n",
    "\n",
    "\n",
    "for norm in norm_test_list:\n",
    "    drug = treatments[(norm_test_list.index(norm))]\n",
    "    lowq = lowerq_list[(norm_test_list.index(norm))]\n",
    "    highq = upperq_list[(norm_test_list.index(norm))]\n",
    "    outl = round(outlow_list[(norm_test_list.index(norm))],2)\n",
    "    outh = round(outhigh_list[(norm_test_list.index(norm))],2)\n",
    "    total_mice = len(mice_endpoint[mice_endpoint[\"Drug Regimen\"] == drug])\n",
    "    outlier_count = len(outliers_table[outliers_table[\"Drug Regimen\"] == drug])\n",
    "    \n",
    "    print(f\"{drug} had the results: \\n{norm}\\nLower Bound: {lowq} (Outliers would be below: {outl})\\nUpper Bound: {highq} (Outliers would be above: {outh})\")\n",
    "    print(f\"{outlier_count} outliers found out of {total_mice} mice tested for {drug}.\")\n",
    "    \n",
    "outliers_table"
   ]
  },
  {
   "cell_type": "code",
   "execution_count": 15,
   "metadata": {
    "scrolled": true
   },
   "outputs": [
    {
     "data": {
      "image/png": "[encoded data removed]",
      "text/plain": [
       "<Figure size 432x288 with 1 Axes>"
      ]
     },
     "metadata": {
      "needs_background": "light"
     },
     "output_type": "display_data"
    }
   ],
   "source": [
    "# Generate a box plot of the final tumor volume of each mouse across four regimens of interest\n",
    "\n",
    "boxprops = dict(color=\"black\",linewidth=1.5)\n",
    "medianprops = dict(color=\"black\",linewidth=1.5)\n",
    "\n",
    "\n",
    "plt.boxplot(tumor_vol_tank, labels=treatments, boxprops=boxprops,medianprops=medianprops)\n",
    "plt.tight_layout()\n",
    "plt.title(\"Tumor Volume at End of Test by Drug Regimen\")\n",
    "plt.xlabel(\"Drug Regimen\")\n",
    "plt.ylabel(\"Tumor Volume (mm3)\")\n",
    "plt.show() "
   ]
  },
  {
   "cell_type": "markdown",
   "metadata": {},
   "source": [
    "## Line and Scatter Plots"
   ]
  },
  {
   "cell_type": "code",
   "execution_count": 16,
   "metadata": {
    "scrolled": true
   },
   "outputs": [
    {
     "data": {
      "text/plain": [
       "(20.0, 48.0)"
      ]
     },
     "execution_count": 16,
     "metadata": {},
     "output_type": "execute_result"
    },
    {
     "data": {
      "image/png": "[encoded data removed]",
      "text/plain": [
       "<Figure size 432x288 with 1 Axes>"
      ]
     },
     "metadata": {
      "needs_background": "light"
     },
     "output_type": "display_data"
    }
   ],
   "source": [
    "# Generate a line plot of tumor volume vs. time point for a mouse treated with Capomulin\n",
    "\n",
    "#currnet plot shows all mice on the regimen\n",
    "#how do I know which mouse to pick? \n",
    "capomulin_data = mice_vs_cancer[mice_vs_cancer[\"Mouse ID\"] == \"s185\"]\n",
    "\n",
    "line_x = capomulin_data[\"Timepoint\"]\n",
    "line_y = capomulin_data[\"Tumor Volume (mm3)\"]\n",
    "\n",
    "plt.plot(line_x, line_y, label=\"\", marker=\"o\")\n",
    "plt.tight_layout()\n",
    "plt.title(\"Tumour Growth Against Time for Mouse s185 (Capomulin)\")\n",
    "plt.xlabel(\"Timepoint\")\n",
    "plt.ylabel(\"Tumor Volume (mm3)\")\n",
    "plt.xlim(-1, 46)\n",
    "plt.ylim(20,48)"
   ]
  },
  {
   "cell_type": "code",
   "execution_count": 17,
   "metadata": {},
   "outputs": [
    {
     "name": "stderr",
     "output_type": "stream",
     "text": [
      "C:\\Users\\James\\AppData\\Local\\Temp/ipykernel_14384/900932644.py:8: FutureWarning: Indexing with multiple keys (implicitly converted to a tuple of keys) will be deprecated, use a list instead.\n",
      "  cap_mice_avg = pd.DataFrame(cap_mice_group[\"Weight (g)\", \"Tumor Volume (mm3)\"].mean()).reset_index()\n"
     ]
    },
    {
     "data": {
      "text/plain": [
       "Text(0.5, 1.0, 'Average Tumour Volume Against Weight of Mouse')"
      ]
     },
     "execution_count": 17,
     "metadata": {},
     "output_type": "execute_result"
    },
    {
     "data": {
      "image/png": "[encoded data removed]",
      "text/plain": [
       "<Figure size 432x288 with 1 Axes>"
      ]
     },
     "metadata": {
      "needs_background": "light"
     },
     "output_type": "display_data"
    }
   ],
   "source": [
    "# Generate a scatter plot of average tumor volume vs. mouse weight for the Capomulin regimen\n",
    "#filter off Capomulin mice\n",
    "cap_mice = mice_vs_cancer[mice_vs_cancer[\"Drug Regimen\"] == \"Capomulin\"]\n",
    "\n",
    "\n",
    "#Get average tumor size for each weight\n",
    "cap_mice_group = cap_mice.groupby(\"Mouse ID\")\n",
    "cap_mice_avg = pd.DataFrame(cap_mice_group[\"Weight (g)\", \"Tumor Volume (mm3)\"].mean()).reset_index()\n",
    "#Plot scatter\n",
    "cap_mice_avg.plot(kind = \"scatter\", x = \"Weight (g)\", y = \"Tumor Volume (mm3)\")\n",
    "plt.title(\"Average Tumour Volume Against Weight of Mouse\")"
   ]
  },
  {
   "cell_type": "markdown",
   "metadata": {},
   "source": [
    "## Correlation and Regression"
   ]
  },
  {
   "cell_type": "code",
   "execution_count": 18,
   "metadata": {
    "scrolled": true
   },
   "outputs": [
    {
     "data": {
      "text/plain": [
       "Text(0.5, 1.0, 'Average Tumour Volume Against Weight of Mouse')"
      ]
     },
     "execution_count": 18,
     "metadata": {},
     "output_type": "execute_result"
    },
    {
     "data": {
      "image/png": "[encoded data removed]",
      "text/plain": [
       "<Figure size 432x288 with 1 Axes>"
      ]
     },
     "metadata": {
      "needs_background": "light"
     },
     "output_type": "display_data"
    }
   ],
   "source": [
    "# Calculate the correlation coefficient and linear regression model \n",
    "# for mouse weight and average tumor volume for the Capomulin regimen\n",
    "\n",
    "#Plot scatter for Capomulin\n",
    "cap_mice_avg.plot(kind = \"scatter\", x = \"Weight (g)\", y = \"Tumor Volume (mm3)\")\n",
    "c_x = cap_mice_avg[\"Weight (g)\"]\n",
    "c_y = cap_mice_avg[\"Tumor Volume (mm3)\"]\n",
    "\n",
    "#Calc regression line\n",
    "c_slope, c_int, c_r, c_p, c_std_err = st.linregress(c_x, c_y)\n",
    "c_fit = c_slope * c_x + c_int\n",
    "line_eq = \"y = \" + str(round(c_slope,2)) + \"x + \" + str(round(c_int,2))\n",
    "\n",
    "#Plot regression line \n",
    "plt.plot(c_x,c_fit,\"r-\")\n",
    "plt.annotate(line_eq,(18,38),fontsize=15,color=\"red\")\n",
    "\n",
    "plt.tight_layout()\n",
    "plt.title(\"Average Tumour Volume Against Weight of Mouse\")"
   ]
  },
  {
   "cell_type": "code",
   "execution_count": null,
   "metadata": {},
   "outputs": [],
   "source": []
  }
 ],
 "metadata": {
  "anaconda-cloud": {},
  "kernelspec": {
   "display_name": "Python 3 (ipykernel)",
   "language": "python",
   "name": "python3"
  },
  "language_info": {
   "codemirror_mode": {
    "name": "ipython",
    "version": 3
   },
   "file_extension": ".py",
   "mimetype": "text/x-python",
   "name": "python",
   "nbconvert_exporter": "python",
   "pygments_lexer": "ipython3",
   "version": "3.8.10"
  }
 },
 "nbformat": 4,
 "nbformat_minor": 4
}
